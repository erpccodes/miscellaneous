{
 "cells": [
  {
   "cell_type": "code",
   "execution_count": 37,
   "id": "caed42ce",
   "metadata": {},
   "outputs": [],
   "source": [
    "import pandas as pd"
   ]
  },
  {
   "cell_type": "code",
   "execution_count": 38,
   "id": "4fa57cba",
   "metadata": {},
   "outputs": [],
   "source": [
    "file_path = 'D:\\\\Extra\\\\StackUp\\\\Practice\\\\Quests\\\\AI_ML_WebscrappingAndSentimentAnalysis\\\\Bounty\\\\archive\\\\Amazon_product_Reviews.csv'"
   ]
  },
  {
   "cell_type": "code",
   "execution_count": 39,
   "id": "bab6d202",
   "metadata": {},
   "outputs": [],
   "source": [
    "# Load the CSV file into a Pandas DataFrame\n",
    "data = pd.read_csv(file_path)"
   ]
  },
  {
   "cell_type": "code",
   "execution_count": 40,
   "id": "7240b886",
   "metadata": {},
   "outputs": [
    {
     "name": "stdout",
     "output_type": "stream",
     "text": [
      "                     id       asins   brand                  categories  \\\n",
      "0  AVpe7AsMilAPnD_xQ78G  B00QJDU3KY  Amazon  Amazon Devices,mazon.co.uk   \n",
      "1  AVpe7AsMilAPnD_xQ78G  B00QJDU3KY  Amazon  Amazon Devices,mazon.co.uk   \n",
      "2  AVpe7AsMilAPnD_xQ78G  B00QJDU3KY  Amazon  Amazon Devices,mazon.co.uk   \n",
      "3  AVpe7AsMilAPnD_xQ78G  B00QJDU3KY  Amazon  Amazon Devices,mazon.co.uk   \n",
      "4  AVpe7AsMilAPnD_xQ78G  B00QJDU3KY  Amazon  Amazon Devices,mazon.co.uk   \n",
      "\n",
      "  colors             dateAdded           dateUpdated  \\\n",
      "0    NaN  2016-03-08T20:21:53Z  2017-07-18T23:52:58Z   \n",
      "1    NaN  2016-03-08T20:21:53Z  2017-07-18T23:52:58Z   \n",
      "2    NaN  2016-03-08T20:21:53Z  2017-07-18T23:52:58Z   \n",
      "3    NaN  2016-03-08T20:21:53Z  2017-07-18T23:52:58Z   \n",
      "4    NaN  2016-03-08T20:21:53Z  2017-07-18T23:52:58Z   \n",
      "\n",
      "                  dimension  ean                         keys  ...  \\\n",
      "0  169 mm x 117 mm x 9.1 mm  NaN  kindlepaperwhite/b00qjdu3ky  ...   \n",
      "1  169 mm x 117 mm x 9.1 mm  NaN  kindlepaperwhite/b00qjdu3ky  ...   \n",
      "2  169 mm x 117 mm x 9.1 mm  NaN  kindlepaperwhite/b00qjdu3ky  ...   \n",
      "3  169 mm x 117 mm x 9.1 mm  NaN  kindlepaperwhite/b00qjdu3ky  ...   \n",
      "4  169 mm x 117 mm x 9.1 mm  NaN  kindlepaperwhite/b00qjdu3ky  ...   \n",
      "\n",
      "  reviews.rating                                 reviews.sourceURLs  \\\n",
      "0            5.0  https://www.amazon.com/Kindle-Paperwhite-High-...   \n",
      "1            5.0  https://www.amazon.com/Kindle-Paperwhite-High-...   \n",
      "2            4.0  https://www.amazon.com/Kindle-Paperwhite-High-...   \n",
      "3            5.0  https://www.amazon.com/Kindle-Paperwhite-High-...   \n",
      "4            5.0  https://www.amazon.com/Kindle-Paperwhite-High-...   \n",
      "\n",
      "                                        reviews.text  \\\n",
      "0  I initially had trouble deciding between the p...   \n",
      "1  Allow me to preface this with a little history...   \n",
      "2  I am enjoying it so far. Great for reading. Ha...   \n",
      "3  I bought one of the first Paperwhites and have...   \n",
      "4  I have to say upfront - I don't like coroporat...   \n",
      "\n",
      "                                reviews.title reviews.userCity  \\\n",
      "0              Paperwhite voyage, no regrets!              NaN   \n",
      "1           One Simply Could Not Ask For More              NaN   \n",
      "2  Great for those that just want an e-reader              NaN   \n",
      "3                    Love / Hate relationship              NaN   \n",
      "4                                   I LOVE IT              NaN   \n",
      "\n",
      "  reviews.userProvince    reviews.username  sizes upc     weight  \n",
      "0                  NaN          Cristina M    NaN NaN  205 grams  \n",
      "1                  NaN               Ricky    NaN NaN  205 grams  \n",
      "2                  NaN       Tedd Gardiner    NaN NaN  205 grams  \n",
      "3                  NaN              Dougal    NaN NaN  205 grams  \n",
      "4                  NaN  Miljan David Tanic    NaN NaN  205 grams  \n",
      "\n",
      "[5 rows x 27 columns]\n"
     ]
    }
   ],
   "source": [
    "print(data.head())"
   ]
  },
  {
   "cell_type": "code",
   "execution_count": 41,
   "id": "74650b4f",
   "metadata": {},
   "outputs": [
    {
     "name": "stderr",
     "output_type": "stream",
     "text": [
      "[nltk_data] Downloading package punkt to\n",
      "[nltk_data]     C:\\Users\\erpri\\AppData\\Roaming\\nltk_data...\n",
      "[nltk_data]   Package punkt is already up-to-date!\n"
     ]
    },
    {
     "data": {
      "text/plain": [
       "True"
      ]
     },
     "execution_count": 41,
     "metadata": {},
     "output_type": "execute_result"
    }
   ],
   "source": [
    "import nltk\n",
    "from nltk.tokenize import word_tokenize\n",
    "from nltk.corpus import stopwords\n",
    "import string\n",
    "nltk.download('punkt')"
   ]
  },
  {
   "cell_type": "code",
   "execution_count": 42,
   "id": "c4d7a41d",
   "metadata": {},
   "outputs": [
    {
     "name": "stdout",
     "output_type": "stream",
     "text": [
      "id                         0\n",
      "asins                      0\n",
      "brand                      0\n",
      "categories                 0\n",
      "colors                   823\n",
      "dateAdded                  0\n",
      "dateUpdated                0\n",
      "dimension               1032\n",
      "ean                      699\n",
      "keys                       0\n",
      "manufacturer             632\n",
      "manufacturerNumber       695\n",
      "name                       0\n",
      "prices                     0\n",
      "reviews.date             380\n",
      "reviews.doRecommend     1058\n",
      "reviews.numHelpful       697\n",
      "reviews.rating           420\n",
      "reviews.sourceURLs         0\n",
      "reviews.text               0\n",
      "reviews.title             17\n",
      "reviews.userCity        1597\n",
      "reviews.userProvince    1597\n",
      "reviews.username          17\n",
      "sizes                   1597\n",
      "upc                      699\n",
      "weight                   911\n",
      "dtype: int64\n"
     ]
    }
   ],
   "source": [
    "# Check for missing values\n",
    "print(data.isnull().sum())"
   ]
  },
  {
   "cell_type": "code",
   "execution_count": 43,
   "id": "be13e58d",
   "metadata": {},
   "outputs": [],
   "source": [
    "# Text cleaning\n",
    "def clean_text(text):\n",
    "    # Convert text to lowercase\n",
    "    text = text.lower()\n",
    "    \n",
    "    # Remove punctuation\n",
    "    text = text.translate(str.maketrans('', '', string.punctuation))\n",
    "    \n",
    "    # Tokenization\n",
    "    tokens = word_tokenize(text)\n",
    "    \n",
    "    # Remove stopwords\n",
    "    stop_words = set(stopwords.words('english'))\n",
    "    tokens = [word for word in tokens if word not in stop_words]\n",
    "    \n",
    "    return tokens"
   ]
  },
  {
   "cell_type": "code",
   "execution_count": 44,
   "id": "f1c593cf",
   "metadata": {},
   "outputs": [],
   "source": [
    "# Apply text cleaning function to the 'review_text' column\n",
    "data['cleaned_text'] = data['reviews.text'].apply(clean_text)"
   ]
  },
  {
   "cell_type": "code",
   "execution_count": 45,
   "id": "c32f33f8",
   "metadata": {},
   "outputs": [],
   "source": [
    "from nltk.sentiment import SentimentIntensityAnalyzer\n",
    "\n",
    "# Initialize the SentimentIntensityAnalyzer\n",
    "sia = SentimentIntensityAnalyzer()\n",
    "\n",
    "# Define a function to get sentiment scores\n",
    "def get_sentiment_scores(text):\n",
    "    return sia.polarity_scores(text)\n",
    "\n",
    "# Apply sentiment analysis to the 'cleaned_text' column\n",
    "data['sentiment_scores'] = data['cleaned_text'].apply(lambda x: get_sentiment_scores(' '.join(x)))\n",
    "\n",
    "# Extract compound scores for overall sentiment\n",
    "data['compound_score'] = data['sentiment_scores'].apply(lambda x: x['compound'])"
   ]
  },
  {
   "cell_type": "code",
   "execution_count": 46,
   "id": "3cb5e208",
   "metadata": {},
   "outputs": [
    {
     "data": {
      "image/png": "[encoded data removed]",
      "text/plain": [
       "<Figure size 800x600 with 1 Axes>"
      ]
     },
     "metadata": {},
     "output_type": "display_data"
    }
   ],
   "source": [
    "import matplotlib.pyplot as plt\n",
    "\n",
    "# Plotting the sentiment distribution\n",
    "plt.figure(figsize=(8, 6))\n",
    "\n",
    "# Histogram for sentiment distribution\n",
    "plt.hist(data['compound_score'], bins=30, color='skyblue', edgecolor='black')\n",
    "plt.title('Sentiment Distribution')\n",
    "plt.xlabel('Compound Sentiment Score')\n",
    "plt.ylabel('Frequency of reviews)')\n",
    "plt.grid(True)\n",
    "\n",
    "# Adding text annotations for positive and negative sentiment with arrows\n",
    "plt.text(0.1, 450, 'Positive Review', fontsize=12, color='green')\n",
    "plt.text(-0.65, 450, 'Negative Review', fontsize=12, color='red')\n",
    "\n",
    "# Adding horizontal arrows to indicate positive and negative sentiment\n",
    "plt.arrow(0.1, 400, 0.6, 0, head_width=20, head_length=0.05, fc='green', ec='green')\n",
    "plt.arrow(-0.1, 400, -0.6, 0, head_width=20, head_length=0.05, fc='red', ec='red')\n",
    "\n",
    "\n",
    "plt.show()"
   ]
  },
  {
   "cell_type": "code",
   "execution_count": null,
   "id": "4839a125",
   "metadata": {},
   "outputs": [],
   "source": []
  }
 ],
 "metadata": {
  "kernelspec": {
   "display_name": "Python 3 (ipykernel)",
   "language": "python",
   "name": "python3"
  },
  "language_info": {
   "codemirror_mode": {
    "name": "ipython",
    "version": 3
   },
   "file_extension": ".py",
   "mimetype": "text/x-python",
   "name": "python",
   "nbconvert_exporter": "python",
   "pygments_lexer": "ipython3",
   "version": "3.11.5"
  }
 },
 "nbformat": 4,
 "nbformat_minor": 5
}
